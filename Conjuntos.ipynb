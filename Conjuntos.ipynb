{
 "cells": [
  {
   "cell_type": "markdown",
   "id": "05f81bdd",
   "metadata": {},
   "source": [
    "# Conjuntos"
   ]
  },
  {
   "cell_type": "code",
   "execution_count": 3,
   "id": "dde52df5",
   "metadata": {},
   "outputs": [],
   "source": [
    "# Criando um conjunto\n",
    "\n",
    "lista = [1,2,3,3,5,7,9,11,31,8,8,47]\n",
    "conjunto1 = set(lista)"
   ]
  },
  {
   "cell_type": "code",
   "execution_count": 4,
   "id": "62da9503",
   "metadata": {},
   "outputs": [
    {
     "name": "stdout",
     "output_type": "stream",
     "text": [
      "{1, 2, 3, 5, 7, 8, 9, 11, 47, 31}\n"
     ]
    }
   ],
   "source": [
    "print(conjunto1) #Não tem ordem e repetição"
   ]
  },
  {
   "cell_type": "code",
   "execution_count": 5,
   "id": "4805afac",
   "metadata": {},
   "outputs": [
    {
     "name": "stdout",
     "output_type": "stream",
     "text": [
      "[1, 2, 3, 3, 5, 7, 9, 11, 31, 8, 8, 47]\n"
     ]
    }
   ],
   "source": [
    "print(lista)"
   ]
  },
  {
   "cell_type": "code",
   "execution_count": 6,
   "id": "1ee088c5",
   "metadata": {},
   "outputs": [],
   "source": [
    "conjunto2 = {1,3,3,5,5,0,0,23, -2}"
   ]
  },
  {
   "cell_type": "code",
   "execution_count": 7,
   "id": "eb92e1ef",
   "metadata": {},
   "outputs": [
    {
     "data": {
      "text/plain": [
       "{-2, 0, 1, 3, 5, 23}"
      ]
     },
     "execution_count": 7,
     "metadata": {},
     "output_type": "execute_result"
    }
   ],
   "source": [
    "conjunto2"
   ]
  },
  {
   "cell_type": "code",
   "execution_count": 8,
   "id": "03fb0b13",
   "metadata": {},
   "outputs": [],
   "source": [
    "conjunto2.add(49)"
   ]
  },
  {
   "cell_type": "code",
   "execution_count": 9,
   "id": "42466a24",
   "metadata": {},
   "outputs": [
    {
     "data": {
      "text/plain": [
       "{-2, 0, 1, 3, 5, 23, 49}"
      ]
     },
     "execution_count": 9,
     "metadata": {},
     "output_type": "execute_result"
    }
   ],
   "source": [
    "conjunto2"
   ]
  },
  {
   "cell_type": "code",
   "execution_count": 11,
   "id": "1bf741b5",
   "metadata": {},
   "outputs": [],
   "source": [
    "conjunto2.remove(1)"
   ]
  },
  {
   "cell_type": "code",
   "execution_count": 12,
   "id": "90632a25",
   "metadata": {},
   "outputs": [
    {
     "data": {
      "text/plain": [
       "{-2, 0, 3, 5, 23, 49}"
      ]
     },
     "execution_count": 12,
     "metadata": {},
     "output_type": "execute_result"
    }
   ],
   "source": [
    "conjunto2"
   ]
  },
  {
   "cell_type": "code",
   "execution_count": null,
   "id": "83bbbdcc",
   "metadata": {},
   "outputs": [],
   "source": []
  }
 ],
 "metadata": {
  "kernelspec": {
   "display_name": "Python 3 (ipykernel)",
   "language": "python",
   "name": "python3"
  },
  "language_info": {
   "codemirror_mode": {
    "name": "ipython",
    "version": 3
   },
   "file_extension": ".py",
   "mimetype": "text/x-python",
   "name": "python",
   "nbconvert_exporter": "python",
   "pygments_lexer": "ipython3",
   "version": "3.10.9"
  }
 },
 "nbformat": 4,
 "nbformat_minor": 5
}
